{
 "cells": [
  {
   "cell_type": "markdown",
   "id": "2b402ba0-2691-41ad-98a9-20e4b4f0286b",
   "metadata": {},
   "source": [
    "# Data in 3D - Selecting and Functions\n",
    "\n",
    "We'll continue working with 3 dimensional datasets and continue using `xarray` to apply _functions_ to our data selections.\n",
    "\n",
    "We'll start by importing the packages we need and loading the [Berkeley Earth](https://berkeleyearth.org/data/) gridded, global surface temperature dataset."
   ]
  },
  {
   "cell_type": "code",
   "execution_count": null,
   "id": "01ac559c-1bd0-4992-903c-d01b15942bbd",
   "metadata": {},
   "outputs": [],
   "source": [
    "import xarray as xr\n",
    "import matplotlib.pyplot as plt"
   ]
  },
  {
   "cell_type": "code",
   "execution_count": null,
   "id": "fa176ba0-d832-407a-82f8-4f37475ceb56",
   "metadata": {},
   "outputs": [],
   "source": [
    "# load data\n",
    "fname_in = '../data/Land_and_Ocean_LatLong1.nc'\n",
    "DS = xr.open_dataset(fname_in,engine='netcdf4')"
   ]
  },
  {
   "cell_type": "code",
   "execution_count": null,
   "id": "cc67b775-0760-410d-9446-923d6b566620",
   "metadata": {},
   "outputs": [],
   "source": [
    "# view the dataset\n",
    "DS"
   ]
  },
  {
   "cell_type": "markdown",
   "id": "cee6b56c-753b-448d-9549-368dbe7a78a2",
   "metadata": {},
   "source": [
    "## Selecting a range with `slice`\n",
    "Let's remind ourselves that climate is a longterm (>30 years) average of conditions on Earth. In the last notebook, we used the `sel` function to look at individual points in time and space. We can also use `sel` to select a range of points to make meaningful subsets of the data.\n",
    "\n",
    "Let's start by selecting a 30-year chunk of the surface temperature data from 1990-2020. We can select a range by using the `slice` argument on the `time` dimension."
   ]
  },
  {
   "cell_type": "code",
   "execution_count": null,
   "id": "c22d9e8e-b741-4d22-8cb6-42cc09e7eacb",
   "metadata": {},
   "outputs": [],
   "source": []
  },
  {
   "cell_type": "code",
   "execution_count": null,
   "id": "64b96754-6455-4e81-ae02-4ba1497253d2",
   "metadata": {},
   "outputs": [],
   "source": []
  },
  {
   "cell_type": "markdown",
   "id": "b53d6c4d-182e-4e2e-b848-d13a6824758a",
   "metadata": {},
   "source": [
    "Now we have a new variable, `present` which is the temperature reccord from 1990-2020. It's nice having this data in it's own `DataArray`, but the value of this selection comes from being able to run calculations on the subset."
   ]
  },
  {
   "cell_type": "markdown",
   "id": "e8fd0d08-2b6e-440b-b729-e525c99e708e",
   "metadata": {},
   "source": [
    "## Applying built-in functions\n",
    "\n",
    "Now that we have our subset we can ask questions about the subset of data and use built-in functions to run calculations on that subset. Let's start with a familiar ones, like `mean`, `min`, `max`, `std`."
   ]
  },
  {
   "cell_type": "code",
   "execution_count": null,
   "id": "2be00a4b-5ae1-4c2d-bb4d-74f20f929e5b",
   "metadata": {},
   "outputs": [],
   "source": []
  },
  {
   "cell_type": "code",
   "execution_count": null,
   "id": "e5b42350-32f1-4860-8be4-233acd727428",
   "metadata": {},
   "outputs": [],
   "source": []
  },
  {
   "cell_type": "code",
   "execution_count": null,
   "id": "f3494d53-333d-472e-8ebd-f1822b72643b",
   "metadata": {},
   "outputs": [],
   "source": []
  },
  {
   "cell_type": "code",
   "execution_count": null,
   "id": "41ec0c78-eb6d-463d-b890-4ce82eabe848",
   "metadata": {},
   "outputs": [],
   "source": []
  },
  {
   "cell_type": "markdown",
   "id": "852308a7-bcd2-450b-94fb-8316171963ed",
   "metadata": {},
   "source": [
    "## Quick linear regression\n",
    "\n",
    "We can also use built-in functions to calculate trends in the temperature reccord within the subset using `polyfit`."
   ]
  },
  {
   "cell_type": "code",
   "execution_count": null,
   "id": "f7ec50c2-b068-44df-bcb8-fd9b83ea6f85",
   "metadata": {},
   "outputs": [],
   "source": []
  },
  {
   "cell_type": "code",
   "execution_count": null,
   "id": "5620e624-7608-49bc-afae-f40954c0948d",
   "metadata": {},
   "outputs": [],
   "source": []
  },
  {
   "cell_type": "markdown",
   "id": "4ff4093a-dd34-4864-9f8e-d93d5ef9077b",
   "metadata": {},
   "source": [
    "Let's test the fit data to see what that looks like at a point."
   ]
  },
  {
   "cell_type": "code",
   "execution_count": null,
   "id": "aa91bf9e-85c1-4715-a198-07af8c13dc16",
   "metadata": {},
   "outputs": [],
   "source": []
  },
  {
   "cell_type": "code",
   "execution_count": null,
   "id": "c0cb44a4-71d6-4985-820c-dfdc366d1ceb",
   "metadata": {},
   "outputs": [],
   "source": []
  },
  {
   "cell_type": "code",
   "execution_count": null,
   "id": "7f688427-b526-419a-a31a-1950e12e9bb7",
   "metadata": {},
   "outputs": [],
   "source": []
  },
  {
   "cell_type": "code",
   "execution_count": null,
   "id": "20f1d07c-ff5c-49bc-b297-defa635644ce",
   "metadata": {},
   "outputs": [],
   "source": []
  },
  {
   "cell_type": "code",
   "execution_count": null,
   "id": "67f4a9b5-a505-4738-9320-32cfcffb8710",
   "metadata": {},
   "outputs": [],
   "source": []
  },
  {
   "cell_type": "code",
   "execution_count": null,
   "id": "37bf91d0-fc25-4164-8735-888a4db2b910",
   "metadata": {},
   "outputs": [],
   "source": []
  },
  {
   "cell_type": "code",
   "execution_count": null,
   "id": "b197eda7-8fe6-461c-ae49-514d4885b992",
   "metadata": {},
   "outputs": [],
   "source": []
  },
  {
   "cell_type": "code",
   "execution_count": null,
   "id": "0a2cd07f-c1b3-46d4-96f9-f127691200ca",
   "metadata": {},
   "outputs": [],
   "source": []
  }
 ],
 "metadata": {
  "kernelspec": {
   "display_name": "Python 3 (ipykernel)",
   "language": "python",
   "name": "python3"
  },
  "language_info": {
   "codemirror_mode": {
    "name": "ipython",
    "version": 3
   },
   "file_extension": ".py",
   "mimetype": "text/x-python",
   "name": "python",
   "nbconvert_exporter": "python",
   "pygments_lexer": "ipython3",
   "version": "3.11.7"
  }
 },
 "nbformat": 4,
 "nbformat_minor": 5
}
