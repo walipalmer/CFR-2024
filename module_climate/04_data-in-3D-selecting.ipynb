{
 "cells": [
  {
   "cell_type": "markdown",
   "id": "2b402ba0-2691-41ad-98a9-20e4b4f0286b",
   "metadata": {},
   "source": [
    "# Data in 3D - Selecting and Plotting\n",
    "\n",
    "We'll continue working with 3 dimensional datasets and explore using `xarray` to select subsets of the datasets.\n",
    "\n",
    "We'll start by importing the packages we need and loading the [Berkeley Earth](https://berkeleyearth.org/data/) gridded, global surface temperature dataset."
   ]
  },
  {
   "cell_type": "code",
   "execution_count": null,
   "id": "01ac559c-1bd0-4992-903c-d01b15942bbd",
   "metadata": {},
   "outputs": [],
   "source": [
    "import xarray as xr\n",
    "import matplotlib.pyplot as plt"
   ]
  },
  {
   "cell_type": "code",
   "execution_count": null,
   "id": "fa176ba0-d832-407a-82f8-4f37475ceb56",
   "metadata": {},
   "outputs": [],
   "source": [
    "# load data\n",
    "fname_in = '../data/Land_and_Ocean_LatLong1.nc'\n",
    "DS = xr.open_dataset(fname_in,engine='netcdf4')"
   ]
  },
  {
   "cell_type": "code",
   "execution_count": null,
   "id": "cc67b775-0760-410d-9446-923d6b566620",
   "metadata": {},
   "outputs": [],
   "source": [
    "# view the dataset\n",
    "DS"
   ]
  },
  {
   "cell_type": "markdown",
   "id": "cee6b56c-753b-448d-9549-368dbe7a78a2",
   "metadata": {},
   "source": [
    "Sometimes before we start analyzing a 3-dimensional dataset, it's useful to visualize the data to see what patterns and features are present in the data. Let's remember that an `xarray` `DataSet` includes [plotting functions](https://docs.xarray.dev/en/latest/user-guide/plotting.html) built-in like histograms, line plots, and heatmaps/contour plots. Let's use the basic `plot` function for our 3-D variable `temperature` to see what it looks like."
   ]
  },
  {
   "cell_type": "code",
   "execution_count": null,
   "id": "f3a35eaf-7050-4530-9d53-eebe32770b44",
   "metadata": {},
   "outputs": [],
   "source": []
  },
  {
   "cell_type": "markdown",
   "id": "9cc10771-6f45-4018-a8a3-628529760a4e",
   "metadata": {},
   "source": [
    "Here we see that `xarray`'s default plotting style for 3-D data is a histogram. Sometimes this default plot can be really helpful, othertimes it's less illustrative and suggests we need to look at the data in a different way. Here we can see that most of the `temperature` data, which is actually the surface temperature anomaly, is centered around $0^\\circ$ C with some values as large a $\\pm 20^\\circ$ C. This is a good starting point, but let's look at smaller selections of the dataset, or subsets of the data, to get a better picture of what's in this 3-D dataset."
   ]
  },
  {
   "cell_type": "markdown",
   "id": "09f6a404-34aa-470b-80a8-97461cb269bf",
   "metadata": {},
   "source": [
    "## Selecting from a single dimension\n",
    "Let's start by selecting data along a single dimension and then plotting the subset. `xarray` has two built-in functions for selecting:\n",
    "* `isel` which selects along a dimension using indecies of the coordinates\n",
    "* `sel` which selects along a dimension using the values of the coordinates\n",
    "\n",
    "Remember, this dataset has the dimensions `time`, `latitude`, and `longitude`. For now lets look at maps of surface temperature anomalies for individual points in the `time` dimension."
   ]
  },
  {
   "cell_type": "code",
   "execution_count": null,
   "id": "293e8d64-31d4-4e95-9c61-5e0ddc1f35ce",
   "metadata": {},
   "outputs": [],
   "source": [
    "# use isel to select the 2001st point in time"
   ]
  },
  {
   "cell_type": "code",
   "execution_count": null,
   "id": "9f1bcb1b-05be-4693-b9f9-f9dfe41e190b",
   "metadata": {},
   "outputs": [],
   "source": [
    "# use isel to select the last point in time"
   ]
  },
  {
   "cell_type": "markdown",
   "id": "579ef2f8-6b4a-4e5e-84f2-21df6becc4a1",
   "metadata": {},
   "source": [
    "What do we notice about those two last plots? What year is each plot from? How do the colorbars compare to one another? Do the values have the same ranges?\n",
    "\n",
    "Let's add some arguments to the function to change the plotting parameters so both plots have the same colorbar range."
   ]
  },
  {
   "cell_type": "code",
   "execution_count": null,
   "id": "7f598452-0ac9-4e95-a6ac-87fcfab7fcf4",
   "metadata": {},
   "outputs": [],
   "source": [
    "# use isel to select the 2001st point in time and a range of -15 to 15 C"
   ]
  },
  {
   "cell_type": "code",
   "execution_count": null,
   "id": "4b0f3e75-0f24-47c5-912e-f494fcb46394",
   "metadata": {},
   "outputs": [],
   "source": [
    "# use isel to select the last point in time and a range of -15 to 15 C"
   ]
  },
  {
   "cell_type": "markdown",
   "id": "a090b493-ba2a-436d-8a89-22ea51f3316b",
   "metadata": {},
   "source": [
    "`isel` let us select a point in time just using the index value. But index values often don't mean much or hold much information. Let's use the other selecting function `sel` which selects data based on the values of the `coordinates`."
   ]
  },
  {
   "cell_type": "code",
   "execution_count": null,
   "id": "ae5e72be-f0bd-4b3f-b25b-2c6919d58ecd",
   "metadata": {},
   "outputs": [],
   "source": [
    "# use sel to select the point in time nearest to March 1950 and a range of -15 to 15 C"
   ]
  },
  {
   "cell_type": "code",
   "execution_count": null,
   "id": "19557287-1ac8-4481-aa3a-1fc266829930",
   "metadata": {},
   "outputs": [],
   "source": [
    "# use sel to select the point in time nearest to March 2001 and a range of -15 to 15 C"
   ]
  },
  {
   "cell_type": "markdown",
   "id": "9bc3da26-2f5b-4b9d-871a-3c0924657f35",
   "metadata": {},
   "source": [
    "We can also select data along one of the spatial dimensions (`latitude` or `longitude`)."
   ]
  },
  {
   "cell_type": "code",
   "execution_count": null,
   "id": "df422589-9241-474f-84a1-fbf4261cdc15",
   "metadata": {},
   "outputs": [],
   "source": [
    "# use sel to select temperature near the equator"
   ]
  },
  {
   "cell_type": "code",
   "execution_count": null,
   "id": "17b56d70-21e3-4008-b22b-74d9b68abcf5",
   "metadata": {},
   "outputs": [],
   "source": [
    "# use sel to select temperature in the Northern Hemisphere midlatitudes"
   ]
  },
  {
   "cell_type": "code",
   "execution_count": null,
   "id": "098af8fb-90cd-4db4-a1df-9e2f2b766ed5",
   "metadata": {},
   "outputs": [],
   "source": [
    "# use sel to select temperature in the Southern Hemisphere midlatitudes"
   ]
  },
  {
   "cell_type": "markdown",
   "id": "36f53c6b-9a07-4e33-8289-05238d8f3525",
   "metadata": {},
   "source": [
    "This gives us a totally new way to look at out data! What if you want `time` on the y-axis to increase as you go down the axis?"
   ]
  },
  {
   "cell_type": "code",
   "execution_count": null,
   "id": "95586cfd-09d1-4e37-af4f-78808807568e",
   "metadata": {},
   "outputs": [],
   "source": [
    "# use sel to select temperature in the Southern Hemisphere midlatitudes"
   ]
  },
  {
   "cell_type": "markdown",
   "id": "a106a843-ccb3-4481-978e-2e3059407acf",
   "metadata": {},
   "source": [
    "You can also select a value for the coordinate `longitude` and see a different view of the data."
   ]
  },
  {
   "cell_type": "code",
   "execution_count": null,
   "id": "9f219dcc-9bb8-4074-b5b5-70deb43faf59",
   "metadata": {},
   "outputs": [],
   "source": [
    "# use sel to select temperature a 0 degrees East"
   ]
  },
  {
   "cell_type": "markdown",
   "id": "c8575ba7-f79f-43d3-802c-43d51bd2924f",
   "metadata": {},
   "source": [
    "It's non-intuative to look at `latitude` on the x-axis, so let's tell `xarray` to make the x-axis the `time` dimension instead."
   ]
  },
  {
   "cell_type": "code",
   "execution_count": null,
   "id": "f4f0343b-0857-4286-b830-46c9070a5457",
   "metadata": {},
   "outputs": [],
   "source": [
    "# use sel to select temperature a 0 degrees East"
   ]
  },
  {
   "cell_type": "code",
   "execution_count": null,
   "id": "40d27668-58a6-46e1-9a8e-74082bd6c969",
   "metadata": {},
   "outputs": [],
   "source": [
    "# use sel to select temperature a -100 degrees East (over the continental US)"
   ]
  },
  {
   "cell_type": "markdown",
   "id": "5a218939-0726-4095-babb-6be913ab515c",
   "metadata": {},
   "source": [
    "## Selecting along multiple dimensions\n",
    "We can look at even smaller subsets of data by selecting along two different dimensions. Here we'll briefly look at single points in sapce."
   ]
  },
  {
   "cell_type": "code",
   "execution_count": null,
   "id": "72fc5df0-5d73-4b91-ad33-8c07082d67bc",
   "metadata": {},
   "outputs": [],
   "source": [
    "# use sel to select temperature at -100 degrees East, 35 degrees North"
   ]
  },
  {
   "cell_type": "code",
   "execution_count": null,
   "id": "ce882cf5-e7d8-4ce4-95a4-d6ce81c28e6d",
   "metadata": {},
   "outputs": [],
   "source": [
    "# use sel to select temperature at -100 degrees East, 35 degrees North and\n",
    "# at 0 degrees East, 0 North"
   ]
  },
  {
   "cell_type": "markdown",
   "id": "26b75843-6463-43f9-8810-439ee64eddba",
   "metadata": {},
   "source": [
    "## Assignment\n",
    "\n",
    "Look at [this map](https://gisgeography.com/wp-content/uploads/2023/01/World-Map-Latitude-Longitudes.jpg) with overlaid latitude and longitude coordinates. Using the selecting methods that we've explored today, create an example comparison of temperatures over land compared to over the ocean. You can do this with line plots, heatmaps, or even a histogram (use this version of the plotting function `.plot.hist()`)."
   ]
  },
  {
   "cell_type": "code",
   "execution_count": null,
   "id": "0a2cd07f-c1b3-46d4-96f9-f127691200ca",
   "metadata": {},
   "outputs": [],
   "source": []
  }
 ],
 "metadata": {
  "kernelspec": {
   "display_name": "Python 3 (ipykernel)",
   "language": "python",
   "name": "python3"
  },
  "language_info": {
   "codemirror_mode": {
    "name": "ipython",
    "version": 3
   },
   "file_extension": ".py",
   "mimetype": "text/x-python",
   "name": "python",
   "nbconvert_exporter": "python",
   "pygments_lexer": "ipython3",
   "version": "3.11.7"
  }
 },
 "nbformat": 4,
 "nbformat_minor": 5
}
