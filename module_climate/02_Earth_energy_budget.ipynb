{
 "cells": [
  {
   "cell_type": "markdown",
   "id": "2da0ff0e-c478-4055-8fa2-a528bbb468a4",
   "metadata": {},
   "source": [
    "# Earth's Energy Budget"
   ]
  },
  {
   "cell_type": "markdown",
   "id": "4525710e-0405-4a66-a43f-86d71e129058",
   "metadata": {},
   "source": [
    "## [Earth's Energy Budget](https://earthobservatory.nasa.gov/features/EnergyBalance)\n",
    "\n",
    "Earth's climate is powered by incoming energy from the sun. For Earth to maintain a stable temperature, the same ammount of energy needs to radiate back out to space as is incoming from the Sun.  This net flow of energy into and out of the Earth system is Earth’s energy budget.\n",
    "\n",
    "### Incoming Sunlight (Solar Radiation)\n",
    "At Earth’s average distance from the Sun (about 150 million kilometers), the average intensity of solar energy reaching the top of the atmosphere directly facing the Sun is about 1,360 watts per square meter, according to measurements made by the most recent NASA satellite missions. This amount of power is known as the total solar irradiance. \n",
    "\n",
    "Energy from sunlight is not spread evenly over Earth. One hemisphere is always dark, receiving no solar radiation at all. On the daylight side, only the point directly under the Sun receives full-intensity solar radiation. From the equator to the poles, the Sun’ rays meet Earth at smaller and smaller angles, and the light gets spread over larger and larger surface areas (red lines). (NASA illustration by Robert Simmon.)\n",
    "\n",
    "![NASA schematic of solar irradiance over Earth](https://assets.science.nasa.gov/content/dam/science/esd/eo/content-feature/energybalance/images/sunlight_angle.png)\n",
    "\n",
    "Averaged over the entire planet, the amount of sunlight arriving at the top of Earth’s atmosphere is only one-fourth of the total solar irradiance, or approximately **340 watts per square meter**.\n",
    "\n",
    "### Earth's Energy Budget (Stable Surface Temperature)\n",
    "For Earth’s temperature to be stable over long periods of time, incoming energy and outgoing energy have to be equal. In other words, the energy budget at the top of the atmosphere must balance. This state of balance is called radiative equilibrium.\n",
    "\n",
    "About 29 percent of the solar energy that arrives at the top of the atmosphere is reflected back to space by clouds, atmospheric particles, or bright ground surfaces like sea ice and snow. This energy plays no role in Earth’s climate system. About 23 percent of incoming solar energy is absorbed in the atmosphere by water vapor, dust, and ozone, and 48 percent passes through the atmosphere and is absorbed by the surface. Thus, about 71 percent of the total incoming solar energy is absorbed by the Earth system.\n",
    "\n",
    "Temperature doesn’t infinitely rise, however, because atoms and molecules on Earth are not just absorbing sunlight, they are also radiating thermal infrared energy (heat). The amount of heat a surface radiates is proportional to the fourth power of its temperature. If temperature doubles, radiated energy increases by a factor of 16 (2 to the 4th power).\n",
    "\n",
    "To understand how the Earth’s climate system balances the energy budget, we have to consider processes occurring at the three levels: the surface of the Earth, where most solar heating takes place; the edge of Earth’s atmosphere, where sunlight enters the system; and the atmosphere in between. At each level, the amount of incoming and outgoing energy, or net flux, must be equal.\n",
    "\n",
    "![NASA schematic of Earth's energy balance](https://assets.science.nasa.gov/content/dam/science/esd/eo/content-feature/energybalance/images/global_energy_budget_components.png)"
   ]
  }
 ],
 "metadata": {
  "kernelspec": {
   "display_name": "Python 3 (ipykernel)",
   "language": "python",
   "name": "python3"
  },
  "language_info": {
   "codemirror_mode": {
    "name": "ipython",
    "version": 3
   },
   "file_extension": ".py",
   "mimetype": "text/x-python",
   "name": "python",
   "nbconvert_exporter": "python",
   "pygments_lexer": "ipython3",
   "version": "3.11.7"
  }
 },
 "nbformat": 4,
 "nbformat_minor": 5
}
