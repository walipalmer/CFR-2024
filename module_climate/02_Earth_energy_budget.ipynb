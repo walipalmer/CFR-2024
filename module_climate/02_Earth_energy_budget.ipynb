{
 "cells": [
  {
   "cell_type": "markdown",
   "id": "4525710e-0405-4a66-a43f-86d71e129058",
   "metadata": {},
   "source": [
    "# [Earth's Energy Budget](https://earthobservatory.nasa.gov/features/EnergyBalance)\n",
    "\n",
    "Earth's climate is powered by incoming energy from the sun. For Earth to maintain a stable temperature, the same ammount of energy needs to radiate back out to space as is incoming from the Sun.  This net flow of energy into and out of the Earth system is Earth’s energy budget.\n",
    "\n",
    "## Incoming Sunlight (Solar Radiation)\n",
    "At Earth’s average distance from the Sun (about 150 million kilometers), the average intensity of solar energy reaching the top of the atmosphere directly facing the Sun is about 1,360 watts per square meter, according to measurements made by the most recent NASA satellite missions. This amount of power is known as the total solar irradiance. \n",
    "\n",
    "Energy from sunlight is not spread evenly over Earth. One hemisphere is always dark, receiving no solar radiation at all. On the daylight side, only the point directly under the Sun receives full-intensity solar radiation. From the equator to the poles, the Sun’ rays meet Earth at smaller and smaller angles, and the light gets spread over larger and larger surface areas (red lines). (NASA illustration by Robert Simmon.)\n",
    "\n",
    "![NASA schematic of solar irradiance over Earth](https://assets.science.nasa.gov/content/dam/science/esd/eo/content-feature/energybalance/images/sunlight_angle.png)\n",
    "\n",
    "Averaged over the entire planet, the amount of sunlight arriving at the top of Earth’s atmosphere is only one-fourth of the total solar irradiance, or approximately **340 watts per square meter**.\n",
    "\n",
    "## Earth's Energy Budget (Stable Surface Temperature)\n",
    "For Earth’s temperature to be stable over long periods of time, incoming energy and outgoing energy have to be equal. In other words, the energy budget at the top of the atmosphere must balance. This state of balance is called radiative equilibrium.\n",
    "\n",
    "About 29 percent of the solar energy that arrives at the top of the atmosphere is reflected back to space by clouds, atmospheric particles, or bright ground surfaces like sea ice and snow. This energy plays no role in Earth’s climate system. About 23 percent of incoming solar energy is absorbed in the atmosphere by water vapor, dust, and ozone, and 48 percent passes through the atmosphere and is absorbed by the surface. Thus, about 71 percent of the total incoming solar energy is absorbed by the Earth system.\n",
    "\n",
    "Temperature doesn’t infinitely rise, however, because atoms and molecules on Earth are not just absorbing sunlight, they are also radiating thermal infrared energy (heat). The amount of heat a surface radiates is proportional to the fourth power of its temperature. If temperature doubles, radiated energy increases by a factor of 16 (2 to the 4th power).\n",
    "\n",
    "To understand how the Earth’s climate system balances the energy budget, we have to consider processes occurring at the three levels: the surface of the Earth, where most solar heating takes place; the edge of Earth’s atmosphere, where sunlight enters the system; and the atmosphere in between. At each level, the amount of incoming and outgoing energy, or net flux, must be equal.\n",
    "\n",
    "![NASA schematic of Earth's energy balance](https://assets.science.nasa.gov/content/dam/science/esd/eo/content-feature/energybalance/images/global_energy_budget_components.png)"
   ]
  },
  {
   "cell_type": "markdown",
   "id": "c3604975-43ca-462c-8634-2f0f0f8e6ea7",
   "metadata": {},
   "source": [
    "## Energy Balance at the top of the Atmosphere\n",
    "\n",
    "Of the 340 watts per square meter of solar energy that falls on the Earth, 29% is reflected back into space, primarily by clouds, but also by other bright surfaces and the atmosphere itself. About 23% of incoming energy is absorbed in the atmosphere by atmospheric gases, dust, and other particles. The remaining 48% is absorbed at the surface.\n",
    "\n",
    "![NASA schematic of Earth's energy balance at the top of the atmoshphere](https://assets.science.nasa.gov/content/dam/science/esd/eo/content-feature/energybalance/images/reflected_radiation.jpg)"
   ]
  },
  {
   "cell_type": "markdown",
   "id": "9b85a6e2-7749-4de4-8d56-0e2b41443fc6",
   "metadata": {},
   "source": [
    "## Energy Balance at Earth's surface\n",
    "\n",
    "The surface absorbs about 48% of incoming sunlight. Three processes remove an equivalent amount of energy from the Earth’s surface: evaporation (25%), convection (5%), and thermal infrared radiation, or heat (net 17%). \n",
    "\n",
    "![NASA schematic of Earth's surface energy budget](https://assets.science.nasa.gov/content/dam/science/esd/eo/content-feature/energybalance/images/surface_energy_balance.jpg)\n",
    "\n",
    "Remember that about 29 percent of incoming sunlight is reflected back to space by bright particles in the atmosphere or bright ground surfaces, which leaves about 71 percent to be absorbed by the atmosphere (23 percent) and the land (48 percent). For the energy budget at Earth’s surface to balance, processes on the ground must get rid of the 48 percent of incoming solar energy that the ocean and land surfaces absorb. Energy leaves the surface through three processes: evaporation, convection, and emission of thermal infrared energy."
   ]
  },
  {
   "cell_type": "markdown",
   "id": "3ecc37f5-7999-4bd3-98aa-07ce5d0bc697",
   "metadata": {},
   "source": [
    "## Energy Balance in the Atmosphere and the Greenhouse effect\n",
    "\n",
    "Just as the incoming and outgoing energy at the Earth’s surface must balance, the flow of energy into the atmosphere must be balanced by an equal flow of energy out of the atmosphere and back to space. Satellite measurements indicate that the atmosphere radiates thermal infrared energy equivalent to 59 percent of the incoming solar energy. If the atmosphere is radiating this much, it must be absorbing that much. Where does that energy come from?\n",
    "\n",
    "Clouds, aerosols, water vapor, and ozone directly absorb 23 percent of incoming solar energy. Evaporation and convection transfer 25 and 5 percent of incoming solar energy from the surface to the atmosphere. These three processes transfer the equivalent of 53 percent of the incoming solar energy to the atmosphere. If total inflow of energy must match the outgoing thermal infrared observed at the top of the atmosphere, where does the remaining fraction (about 5-6 percent) come from? The remaining energy comes from the Earth’s surface.\n",
    "\n",
    "### The Natural Greenhouse Effect\n",
    "Just as the major atmospheric gases (oxygen and nitrogen) are transparent to incoming sunlight, they are also transparent to outgoing thermal infrared. However, water vapor, carbon dioxide, methane, and other trace gases are opaque to many wavelengths of thermal infrared energy. Remember that the surface radiates the net equivalent of 17 percent of incoming solar energy as thermal infrared. However, the amount that directly escapes to space is only about 12 percent of incoming solar energy. The remaining fraction—a net 5-6 percent of incoming solar energy—is transferred to the atmosphere when greenhouse gas molecules absorb thermal infrared energy radiated by the surface.\n",
    "\n",
    "![NASA schematic of Earth's atmospheric energy budget](https://assets.science.nasa.gov/content/dam/science/esd/eo/content-feature/energybalance/images/atmosphere_energy_balance.jpg)\n",
    "\n",
    "When greenhouse gas molecules absorb thermal infrared energy, their temperature rises. Like coals from a fire that are warm but not glowing, greenhouse gases then radiate an increased amount of thermal infrared energy in all directions. Heat radiated upward continues to encounter greenhouse gas molecules; those molecules absorb the heat, their temperature rises, and the amount of heat they radiate increases. At an altitude of roughly 5-6 kilometers, the concentration of greenhouse gases in the overlying atmosphere is so small that heat can radiate freely to space.\n",
    "\n",
    "Because greenhouse gas molecules radiate heat in all directions, some of it spreads downward and ultimately comes back into contact with the Earth’s surface, where it is absorbed. The temperature of the surface becomes warmer than it would be if it were heated only by direct solar heating. This supplemental heating of the Earth’s surface by the atmosphere is the natural greenhouse effect."
   ]
  },
  {
   "cell_type": "markdown",
   "id": "db76b038-dfd2-4f2b-b696-e8ee480ae78a",
   "metadata": {},
   "source": [
    "## Assignment\n",
    "\n",
    "In the `data` folder you'll find the [Mauna Loa CO2 reccord](https://gml.noaa.gov/ccgg/trends/mlo.html).\n",
    "\n",
    "The **first part of the assignment** is to explore the data website: https://gml.noaa.gov/ccgg/trends/mlo.html\n",
    "\n",
    "This website is hosted by the National Oceanic & Atmospheric Administration (NOAA) Global Monitoring Laboratory and contains figures and data for monitored greenhouse gases. Click around and see what kind of information and datasets freely are avaiable from NOAA. This is an example of the kinds of climate data that government agencies like NOAA or NASA maintian for the research community and the general public so anyone can access the datasets that the government supports. Write your own notes about what you find on the NOAA GML site below.\n",
    "\n",
    "[Add your notes on what you found in this website here. What greenhouse gas record did you explore, which plots did you look at here]"
   ]
  },
  {
   "cell_type": "markdown",
   "id": "293e554e-e64d-4ec8-9425-9ff9557a0f63",
   "metadata": {},
   "source": [
    "The **second part of the assignment** is to visualize the Manuna Lao CO2 reccord. Below is code to open the data set. **Write additional code to visualize that dataset.** Add notes as python comments or in markdown blocks describing what you see in the dataset."
   ]
  },
  {
   "cell_type": "code",
   "execution_count": 1,
   "id": "4e2518be-d883-4193-8c02-391ae94366e9",
   "metadata": {},
   "outputs": [],
   "source": [
    "# import packages\n",
    "import pandas as pd\n",
    "import matplotlib.pyplot as plt\n",
    "import datetime"
   ]
  },
  {
   "cell_type": "code",
   "execution_count": 2,
   "id": "a5d17c7b-2329-48ab-8104-90c87f70a622",
   "metadata": {},
   "outputs": [],
   "source": [
    "# load data\n",
    "fname_in = '../data/co2_mm_mlo.csv'\n",
    "co2 = pd.read_csv(fname_in)"
   ]
  },
  {
   "cell_type": "code",
   "execution_count": null,
   "id": "b017d82f-9b76-47da-8887-0341c39466b8",
   "metadata": {},
   "outputs": [],
   "source": [
    "# make figure"
   ]
  },
  {
   "cell_type": "code",
   "execution_count": null,
   "id": "b50b562c-a4f2-4172-a502-6d8c842ddcdf",
   "metadata": {},
   "outputs": [],
   "source": [
    "# notes"
   ]
  }
 ],
 "metadata": {
  "kernelspec": {
   "display_name": "Python 3 (ipykernel)",
   "language": "python",
   "name": "python3"
  },
  "language_info": {
   "codemirror_mode": {
    "name": "ipython",
    "version": 3
   },
   "file_extension": ".py",
   "mimetype": "text/x-python",
   "name": "python",
   "nbconvert_exporter": "python",
   "pygments_lexer": "ipython3",
   "version": "3.11.7"
  }
 },
 "nbformat": 4,
 "nbformat_minor": 5
}
