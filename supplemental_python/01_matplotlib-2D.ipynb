{
 "cells": [
  {
   "cell_type": "markdown",
   "id": "84a93165-7f74-4a34-9565-ac8af64ee6e5",
   "metadata": {},
   "source": [
    "# Visualizing 2D data with `matplotlib`\n",
    "\n",
    "Dataset for this module: https://berkeley-earth-temperature.s3.us-west-1.amazonaws.com/Global/Gridded/Land_and_Ocean_EqualArea.nc\n",
    "\n",
    "Reference on plotting: https://earth-env-data-science.github.io/lectures/basic_scipy/more_matplotlib.html#d-plotting-methods\n",
    "Reference on reading in netcdf files with xarray: https://earth-env-data-science.github.io/lectures/xarray/xarray.html#loading-data-from-netcdf-files\n",
    "\n",
    "Please use this notebook to develop a 1.5 hr module to:\n",
    "- load in the gridded dataset of earth's surface temperature\n",
    "- select one time point for plotting (`.isel(time=n)`)\n",
    "- plot the surface temperature of the earth using pcolormesh\n",
    "- customize the plots by adjusting colorscale, colormaps, axis limits"
   ]
  },
  {
   "cell_type": "code",
   "execution_count": null,
   "id": "8b78bb95-2bf3-42fb-9a48-87afe854e01e",
   "metadata": {},
   "outputs": [],
   "source": []
  }
 ],
 "metadata": {
  "kernelspec": {
   "display_name": "Python 3 (ipykernel)",
   "language": "python",
   "name": "python3"
  },
  "language_info": {
   "codemirror_mode": {
    "name": "ipython",
    "version": 3
   },
   "file_extension": ".py",
   "mimetype": "text/x-python",
   "name": "python",
   "nbconvert_exporter": "python",
   "pygments_lexer": "ipython3",
   "version": "3.11.7"
  }
 },
 "nbformat": 4,
 "nbformat_minor": 5
}
